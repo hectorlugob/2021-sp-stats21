{
 "cells": [
  {
   "cell_type": "markdown",
   "id": "2c71be0b",
   "metadata": {},
   "source": [
    "Hello hello hello. This is Markdown"
   ]
  },
  {
   "cell_type": "code",
   "execution_count": 2,
   "id": "b26691b3",
   "metadata": {},
   "outputs": [
    {
     "data": {
      "text/plain": [
       "8"
      ]
     },
     "execution_count": 2,
     "metadata": {},
     "output_type": "execute_result"
    }
   ],
   "source": [
    "# This is code\n",
    "3 + 5"
   ]
  },
  {
   "cell_type": "markdown",
   "id": "7e60d644",
   "metadata": {},
   "source": [
    "This is also Markdown"
   ]
  },
  {
   "cell_type": "code",
   "execution_count": 3,
   "id": "c352eccb",
   "metadata": {},
   "outputs": [
    {
     "data": {
      "text/plain": [
       "'Hello hello hello\\n3+5'"
      ]
     },
     "execution_count": 3,
     "metadata": {},
     "output_type": "execute_result"
    }
   ],
   "source": [
    "In[1]"
   ]
  },
  {
   "cell_type": "code",
   "execution_count": 4,
   "id": "41407340",
   "metadata": {},
   "outputs": [
    {
     "data": {
      "text/plain": [
       "'# This is code\\n3 + 5'"
      ]
     },
     "execution_count": 4,
     "metadata": {},
     "output_type": "execute_result"
    }
   ],
   "source": [
    "In[2]"
   ]
  },
  {
   "cell_type": "code",
   "execution_count": 5,
   "id": "687b3044",
   "metadata": {},
   "outputs": [
    {
     "data": {
      "text/plain": [
       "'In[1]'"
      ]
     },
     "execution_count": 5,
     "metadata": {},
     "output_type": "execute_result"
    }
   ],
   "source": [
    "In[3]"
   ]
  },
  {
   "cell_type": "markdown",
   "id": "6e5e2c3e",
   "metadata": {},
   "source": [
    "### Math Operations with Strings"
   ]
  },
  {
   "cell_type": "code",
   "execution_count": 9,
   "id": "0c7a67f6",
   "metadata": {},
   "outputs": [
    {
     "data": {
      "text/plain": [
       "'hellohellohellohello'"
      ]
     },
     "execution_count": 9,
     "metadata": {},
     "output_type": "execute_result"
    }
   ],
   "source": [
    "4*\"hello\""
   ]
  },
  {
   "cell_type": "code",
   "execution_count": 12,
   "id": "748a1dff",
   "metadata": {},
   "outputs": [
    {
     "name": "stdout",
     "output_type": "stream",
     "text": [
      "This is a scratch script\n",
      "8\n"
     ]
    }
   ],
   "source": [
    "%run Scratch.py"
   ]
  },
  {
   "cell_type": "code",
   "execution_count": 21,
   "id": "6f9dada5",
   "metadata": {},
   "outputs": [],
   "source": [
    "name = \"Fausto\""
   ]
  },
  {
   "cell_type": "code",
   "execution_count": 14,
   "id": "ec8ed886",
   "metadata": {},
   "outputs": [
    {
     "ename": "NameError",
     "evalue": "name 'name' is not defined",
     "output_type": "error",
     "traceback": [
      "\u001b[1;31m---------------------------------------------------------------------------\u001b[0m",
      "\u001b[1;31mNameError\u001b[0m                                 Traceback (most recent call last)",
      "\u001b[1;32m~\\2021-sp-stats21\\Scratch2.py\u001b[0m in \u001b[0;36m<module>\u001b[1;34m\u001b[0m\n\u001b[1;32m----> 1\u001b[1;33m \u001b[0mprint\u001b[0m\u001b[1;33m(\u001b[0m\u001b[1;34m'Hello'\u001b[0m \u001b[1;33m+\u001b[0m \u001b[0mname\u001b[0m\u001b[1;33m)\u001b[0m\u001b[1;33m\u001b[0m\u001b[1;33m\u001b[0m\u001b[0m\n\u001b[0m\u001b[0;32m      2\u001b[0m \u001b[0mprint\u001b[0m\u001b[1;33m(\u001b[0m\u001b[1;34m\"It's Friday\"\u001b[0m\u001b[1;33m)\u001b[0m\u001b[1;33m\u001b[0m\u001b[1;33m\u001b[0m\u001b[0m\n",
      "\u001b[1;31mNameError\u001b[0m: name 'name' is not defined"
     ]
    }
   ],
   "source": [
    "%run Scratch2.py"
   ]
  },
  {
   "cell_type": "code",
   "execution_count": 22,
   "id": "9c389e89",
   "metadata": {},
   "outputs": [
    {
     "name": "stdout",
     "output_type": "stream",
     "text": [
      "Hello Fausto\n",
      "It's Friday\n"
     ]
    }
   ],
   "source": [
    "%run -i Scratch2.py"
   ]
  },
  {
   "cell_type": "code",
   "execution_count": 23,
   "id": "0de971f7",
   "metadata": {},
   "outputs": [
    {
     "name": "stderr",
     "output_type": "stream",
     "text": [
      "'cat' is not recognized as an internal or external command,\n",
      "operable program or batch file.\n"
     ]
    }
   ],
   "source": [
    "!cat Scratch2.py"
   ]
  },
  {
   "cell_type": "code",
   "execution_count": 24,
   "id": "366911ec",
   "metadata": {},
   "outputs": [
    {
     "name": "stdout",
     "output_type": "stream",
     "text": [
      "print('This is a scratch script')\n",
      "print(3 + 5)\n",
      "x = 3\n"
     ]
    }
   ],
   "source": [
    "!Type Scratch.py"
   ]
  },
  {
   "cell_type": "markdown",
   "id": "fd2ef0dc",
   "metadata": {
    "tags": []
   },
   "source": [
    "### Last output value"
   ]
  },
  {
   "cell_type": "code",
   "execution_count": 25,
   "id": "0dee3367",
   "metadata": {},
   "outputs": [
    {
     "data": {
      "text/plain": [
       "11"
      ]
     },
     "execution_count": 25,
     "metadata": {},
     "output_type": "execute_result"
    }
   ],
   "source": [
    "2+9"
   ]
  },
  {
   "cell_type": "code",
   "execution_count": 26,
   "id": "82707618",
   "metadata": {},
   "outputs": [
    {
     "data": {
      "text/plain": [
       "14"
      ]
     },
     "execution_count": 26,
     "metadata": {},
     "output_type": "execute_result"
    }
   ],
   "source": [
    "_ + 3"
   ]
  },
  {
   "cell_type": "code",
   "execution_count": 32,
   "id": "3e95eb82",
   "metadata": {},
   "outputs": [
    {
     "name": "stdout",
     "output_type": "stream",
     "text": [
      "14\n"
     ]
    }
   ],
   "source": [
    "a = 3 + 4 + 1 \\\n",
    "    + 6\n",
    "print(a)"
   ]
  },
  {
   "cell_type": "markdown",
   "id": "7007dfda",
   "metadata": {},
   "source": [
    "### Contextual Help"
   ]
  },
  {
   "cell_type": "markdown",
   "id": "342c664f",
   "metadata": {},
   "source": [
    "help -> show contextual help"
   ]
  },
  {
   "cell_type": "code",
   "execution_count": 2,
   "id": "ae52ca07",
   "metadata": {},
   "outputs": [
    {
     "name": "stdout",
     "output_type": "stream",
     "text": [
      "hello\n"
     ]
    }
   ],
   "source": [
    "print(\"hello\")"
   ]
  },
  {
   "cell_type": "code",
   "execution_count": 3,
   "id": "458c037f",
   "metadata": {},
   "outputs": [
    {
     "data": {
      "text/plain": [
       "str"
      ]
     },
     "execution_count": 3,
     "metadata": {},
     "output_type": "execute_result"
    }
   ],
   "source": [
    "type(\"ola\")"
   ]
  },
  {
   "cell_type": "code",
   "execution_count": null,
   "id": "8a048d61",
   "metadata": {},
   "outputs": [],
   "source": []
  }
 ],
 "metadata": {
  "kernelspec": {
   "display_name": "Python 3",
   "language": "python",
   "name": "python3"
  },
  "language_info": {
   "codemirror_mode": {
    "name": "ipython",
    "version": 3
   },
   "file_extension": ".py",
   "mimetype": "text/x-python",
   "name": "python",
   "nbconvert_exporter": "python",
   "pygments_lexer": "ipython3",
   "version": "3.8.8"
  }
 },
 "nbformat": 4,
 "nbformat_minor": 5
}
