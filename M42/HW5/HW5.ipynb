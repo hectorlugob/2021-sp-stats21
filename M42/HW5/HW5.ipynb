{
 "cells": [
  {
   "cell_type": "code",
   "execution_count": 22,
   "id": "334a6e92",
   "metadata": {},
   "outputs": [],
   "source": [
    "import numpy as np\n",
    "import scipy.linalg as la\n",
    "import matplotlib.pyplot as plt\n",
    "from numpy.linalg import matrix_power"
   ]
  },
  {
   "cell_type": "markdown",
   "id": "ed93eb25",
   "metadata": {},
   "source": [
    "### Best Case Scenario"
   ]
  },
  {
   "cell_type": "code",
   "execution_count": 3,
   "id": "1998448a",
   "metadata": {},
   "outputs": [],
   "source": [
    "B = np.array([[0.63, 0.63, 1.2, 1.2, 1.2, 1.2, 1.2, 1.2, 1.2, 1.2, 1.2, 1.2, 1.2, 1.2, 1.2, 1.2], \n",
    "[0.34, 0, 0, 0, 0, 0, 0, 0, 0, 0, 0, 0, 0, 0, 0, 0], \n",
    "[0, 0.71, 0, 0, 0, 0, 0, 0, 0, 0, 0, 0, 0, 0, 0, 0],\n",
    "[0, 0, 0.71, 0, 0, 0, 0, 0, 0, 0, 0, 0, 0, 0, 0, 0], \n",
    "[0, 0, 0, 0.71, 0, 0, 0, 0, 0, 0, 0, 0, 0, 0, 0, 0],\n",
    "[0, 0, 0, 0, 0.71, 0, 0, 0, 0, 0, 0, 0, 0, 0, 0, 0],\n",
    "[0, 0, 0, 0, 0, 0.71, 0, 0, 0, 0, 0, 0, 0, 0, 0, 0],\n",
    "[0, 0, 0, 0, 0, 0, 0.71, 0, 0, 0, 0, 0, 0, 0, 0, 0],\n",
    "[0, 0, 0, 0, 0, 0, 0, 0.71, 0, 0, 0, 0, 0, 0, 0, 0],\n",
    "[0, 0, 0, 0, 0, 0, 0, 0, 0.71, 0, 0, 0, 0, 0, 0, 0],\n",
    "[0, 0, 0, 0, 0, 0, 0, 0, 0, 0.71, 0, 0, 0, 0, 0, 0],\n",
    "[0, 0, 0, 0, 0, 0, 0, 0, 0, 0, 0.71, 0, 0, 0, 0, 0],\n",
    "[0, 0, 0, 0, 0, 0, 0, 0, 0, 0, 0, 0.71, 0, 0, 0, 0],\n",
    "[0, 0, 0, 0, 0, 0, 0, 0, 0, 0, 0, 0, 0.71, 0, 0, 0],\n",
    "[0, 0, 0, 0, 0, 0, 0, 0, 0, 0, 0, 0, 0, 0.71, 0, 0],\n",
    "[0, 0, 0, 0, 0, 0, 0, 0, 0, 0, 0, 0, 0, 0, 0.71, 0]]\n",
    ")"
   ]
  },
  {
   "cell_type": "code",
   "execution_count": 63,
   "id": "96f4f371",
   "metadata": {},
   "outputs": [
    {
     "name": "stdout",
     "output_type": "stream",
     "text": [
      "(16, 16)\n"
     ]
    }
   ],
   "source": [
    "print(B.shape)"
   ]
  },
  {
   "cell_type": "code",
   "execution_count": 64,
   "id": "a7d41d8b",
   "metadata": {},
   "outputs": [],
   "source": [
    "Y, V = la.eig(B)"
   ]
  },
  {
   "cell_type": "code",
   "execution_count": 65,
   "id": "95474134",
   "metadata": {},
   "outputs": [
    {
     "name": "stdout",
     "output_type": "stream",
     "text": [
      "[ 1.24144022+0.j          0.63891407+0.29119587j  0.63891407-0.29119587j\n",
      "  0.46798969+0.51244451j  0.46798969-0.51244451j  0.23986627+0.64623213j\n",
      "  0.23986627-0.64623213j -0.01274413+0.68116868j -0.01274413-0.68116868j\n",
      " -0.25762247+0.61653209j -0.25762247-0.61653209j -0.46212066+0.46514502j\n",
      " -0.46212066-0.46514502j -0.64489783+0.j         -0.59755397+0.24965983j\n",
      " -0.59755397-0.24965983j]\n"
     ]
    }
   ],
   "source": [
    "print(Y)"
   ]
  },
  {
   "cell_type": "code",
   "execution_count": 66,
   "id": "ec851280",
   "metadata": {},
   "outputs": [],
   "source": [
    "yabs = np.abs(Y)"
   ]
  },
  {
   "cell_type": "code",
   "execution_count": 67,
   "id": "ebef3c55",
   "metadata": {},
   "outputs": [
    {
     "data": {
      "text/plain": [
       "1.2414402241505778"
      ]
     },
     "execution_count": 67,
     "metadata": {},
     "output_type": "execute_result"
    }
   ],
   "source": [
    "max(yabs)"
   ]
  },
  {
   "cell_type": "code",
   "execution_count": 82,
   "id": "efa0cffe",
   "metadata": {
    "tags": []
   },
   "outputs": [
    {
     "name": "stdout",
     "output_type": "stream",
     "text": [
      "[ 0.9485312 +0.j          0.44155086+0.j          0.44155086-0.j\n",
      " -0.40648307+0.j         -0.40648307-0.j          0.38625158+0.j\n",
      "  0.38625158-0.j          0.35157721+0.j          0.35157721-0.j\n",
      " -0.10054223-0.27880184j -0.10054223+0.27880184j -0.18287935-0.16580673j\n",
      " -0.18287935+0.16580673j -0.2078037 +0.j         -0.20434097-0.07385038j\n",
      " -0.20434097+0.07385038j]\n"
     ]
    }
   ],
   "source": [
    "### Eigenvector associated with dominant Eigenvalue\n",
    "print(V[0])"
   ]
  },
  {
   "cell_type": "code",
   "execution_count": 69,
   "id": "ed02035e",
   "metadata": {},
   "outputs": [],
   "source": [
    "B10 = matrix_power(B, 10)"
   ]
  },
  {
   "cell_type": "code",
   "execution_count": 84,
   "id": "f1d0236f",
   "metadata": {},
   "outputs": [],
   "source": [
    "Binitial = np.array([[0], [100], [50], [50], [25], [10], [0], [0], [0], [0], [0], [0], [0], [0], [0], [0]])"
   ]
  },
  {
   "cell_type": "code",
   "execution_count": 71,
   "id": "07101386",
   "metadata": {},
   "outputs": [
    {
     "name": "stdout",
     "output_type": "stream",
     "text": [
      "(16, 1)\n"
     ]
    }
   ],
   "source": [
    "print(Binitial.shape)"
   ]
  },
  {
   "cell_type": "code",
   "execution_count": 72,
   "id": "8ccc8f28",
   "metadata": {},
   "outputs": [],
   "source": [
    "Bfinal = B10 @ Binitial"
   ]
  },
  {
   "cell_type": "code",
   "execution_count": 94,
   "id": "5b68b56e",
   "metadata": {},
   "outputs": [
    {
     "name": "stdout",
     "output_type": "stream",
     "text": [
      "[[6.09875191e-01]\n",
      " [1.67018460e-01]\n",
      " [9.55153587e-02]\n",
      " [5.46291955e-02]\n",
      " [3.12423068e-02]\n",
      " [1.78413695e-02]\n",
      " [1.01830237e-02]\n",
      " [5.92688724e-03]\n",
      " [3.54624895e-03]\n",
      " [1.65661687e-03]\n",
      " [0.00000000e+00]\n",
      " [1.09163472e-03]\n",
      " [5.45817361e-04]\n",
      " [5.45817361e-04]\n",
      " [2.72908680e-04]\n",
      " [1.09163472e-04]]\n"
     ]
    }
   ],
   "source": [
    "print(Bfinal/sum(Bfinal))"
   ]
  },
  {
   "cell_type": "markdown",
   "id": "15e60cb1",
   "metadata": {},
   "source": [
    "### Worst Case Scenario"
   ]
  },
  {
   "cell_type": "code",
   "execution_count": 74,
   "id": "9eb167e1",
   "metadata": {},
   "outputs": [],
   "source": [
    "W = np.array([[0.60, 0.60, 1.15, 1.15, 1.15, 1.15, 1.15, 1.15, 1.15, 1.15, 1.15, 1.15, 1.15, 1.15, 1.15, 1.15], \n",
    "[0.32, 0, 0, 0, 0, 0, 0, 0, 0, 0, 0, 0, 0, 0, 0, 0], \n",
    "[0, 0.68, 0, 0, 0, 0, 0, 0, 0, 0, 0, 0, 0, 0, 0, 0],\n",
    "[0, 0, 0.68, 0, 0, 0, 0, 0, 0, 0, 0, 0, 0, 0, 0, 0], \n",
    "[0, 0, 0, 0.68, 0, 0, 0, 0, 0, 0, 0, 0, 0, 0, 0, 0],\n",
    "[0, 0, 0, 0, 0.68, 0, 0, 0, 0, 0, 0, 0, 0, 0, 0, 0],\n",
    "[0, 0, 0, 0, 0, 0.68, 0, 0, 0, 0, 0, 0, 0, 0, 0, 0],\n",
    "[0, 0, 0, 0, 0, 0, 0.68, 0, 0, 0, 0, 0, 0, 0, 0, 0],\n",
    "[0, 0, 0, 0, 0, 0, 0, 0.68, 0, 0, 0, 0, 0, 0, 0, 0],\n",
    "[0, 0, 0, 0, 0, 0, 0, 0, 0.68, 0, 0, 0, 0, 0, 0, 0],\n",
    "[0, 0, 0, 0, 0, 0, 0, 0, 0, 0.68, 0, 0, 0, 0, 0, 0],\n",
    "[0, 0, 0, 0, 0, 0, 0, 0, 0, 0, 0.68, 0, 0, 0, 0, 0],\n",
    "[0, 0, 0, 0, 0, 0, 0, 0, 0, 0, 0, 0.68, 0, 0, 0, 0],\n",
    "[0, 0, 0, 0, 0, 0, 0, 0, 0, 0, 0, 0, 0.68, 0, 0, 0],\n",
    "[0, 0, 0, 0, 0, 0, 0, 0, 0, 0, 0, 0, 0, 0.68, 0, 0],\n",
    "[0, 0, 0, 0, 0, 0, 0, 0, 0, 0, 0, 0, 0, 0, 0.68, 0]])"
   ]
  },
  {
   "cell_type": "code",
   "execution_count": 75,
   "id": "0fecee93",
   "metadata": {},
   "outputs": [
    {
     "name": "stdout",
     "output_type": "stream",
     "text": [
      "(16, 16)\n"
     ]
    }
   ],
   "source": [
    "print(W.shape)"
   ]
  },
  {
   "cell_type": "code",
   "execution_count": 76,
   "id": "643dead6",
   "metadata": {},
   "outputs": [],
   "source": [
    "H, J = la.eig(W)"
   ]
  },
  {
   "cell_type": "code",
   "execution_count": 77,
   "id": "303b7809",
   "metadata": {},
   "outputs": [
    {
     "name": "stdout",
     "output_type": "stream",
     "text": [
      "[ 1.18285182+0.j          0.6117292 +0.27890757j  0.6117292 -0.27890757j\n",
      "  0.44802335+0.49054862j  0.44802335-0.49054862j  0.22969649+0.61845887j\n",
      "  0.22969649-0.61845887j -0.01206036+0.65179318j -0.01206036-0.65179318j\n",
      " -0.24642711+0.5899047j  -0.24642711-0.5899047j  -0.4421333 +0.44504919j\n",
      " -0.4421333 -0.44504919j -0.61703866+0.j         -0.57173484+0.23887342j\n",
      " -0.57173484-0.23887342j]\n"
     ]
    }
   ],
   "source": [
    "print(H)"
   ]
  },
  {
   "cell_type": "code",
   "execution_count": 78,
   "id": "6970ec5e",
   "metadata": {},
   "outputs": [],
   "source": [
    "habs = np.abs(H)"
   ]
  },
  {
   "cell_type": "code",
   "execution_count": 79,
   "id": "40b8aec0",
   "metadata": {},
   "outputs": [
    {
     "data": {
      "text/plain": [
       "1.1828518192421127"
      ]
     },
     "execution_count": 79,
     "metadata": {},
     "output_type": "execute_result"
    }
   ],
   "source": [
    "max(habs)"
   ]
  },
  {
   "cell_type": "code",
   "execution_count": 81,
   "id": "0044c663",
   "metadata": {},
   "outputs": [
    {
     "name": "stdout",
     "output_type": "stream",
     "text": [
      "[ 0.9494508 +0.j          0.44703755+0.j          0.44703755-0.j\n",
      "  0.41102218+0.j          0.41102218-0.j          0.38995667+0.j\n",
      "  0.38995667-0.j          0.35428039+0.j          0.35428039-0.j\n",
      " -0.10161328-0.28046002j -0.10161328+0.28046002j -0.18406689-0.16675723j\n",
      " -0.18406689+0.16675723j  0.20908004+0.j         -0.20559484-0.07429886j\n",
      " -0.20559484+0.07429886j]\n"
     ]
    }
   ],
   "source": [
    "### Eigenvector associated with dominant Eigenvalue\n",
    "print(J[0])"
   ]
  },
  {
   "cell_type": "code",
   "execution_count": 83,
   "id": "65561eb4",
   "metadata": {},
   "outputs": [],
   "source": [
    "W10 = matrix_power(W, 10)"
   ]
  },
  {
   "cell_type": "code",
   "execution_count": 85,
   "id": "6865ba44",
   "metadata": {},
   "outputs": [],
   "source": [
    "Winitial = np.array([[0], [100], [50], [50], [25], [10], [0], [0], [0], [0], [0], [0], [0], [0], [0], [0]])"
   ]
  },
  {
   "cell_type": "code",
   "execution_count": 86,
   "id": "3accb054",
   "metadata": {},
   "outputs": [],
   "source": [
    "Wfinal = W10 @ Winitial"
   ]
  },
  {
   "cell_type": "code",
   "execution_count": 90,
   "id": "f8554392",
   "metadata": {},
   "outputs": [
    {
     "name": "stdout",
     "output_type": "stream",
     "text": [
      "[[6.11145255e-01]\n",
      " [1.65322684e-01]\n",
      " [9.50354888e-02]\n",
      " [5.46364130e-02]\n",
      " [3.14078690e-02]\n",
      " [1.80282721e-02]\n",
      " [1.03441760e-02]\n",
      " [6.05416236e-03]\n",
      " [3.63864385e-03]\n",
      " [1.70199508e-03]\n",
      " [0.00000000e+00]\n",
      " [1.14257045e-03]\n",
      " [5.71285225e-04]\n",
      " [5.71285225e-04]\n",
      " [2.85642612e-04]\n",
      " [1.14257045e-04]]\n"
     ]
    }
   ],
   "source": [
    "print(Wfinal/sum(Wfinal))"
   ]
  },
  {
   "cell_type": "code",
   "execution_count": 91,
   "id": "a4b27310",
   "metadata": {},
   "outputs": [],
   "source": [
    "caca = np.array([[2], [5], [8]])"
   ]
  },
  {
   "cell_type": "code",
   "execution_count": 93,
   "id": "48a1fa40",
   "metadata": {},
   "outputs": [
    {
     "data": {
      "text/plain": [
       "array([[0.13333333],\n",
       "       [0.33333333],\n",
       "       [0.53333333]])"
      ]
     },
     "execution_count": 93,
     "metadata": {},
     "output_type": "execute_result"
    }
   ],
   "source": [
    "caca/sum(caca)"
   ]
  },
  {
   "cell_type": "markdown",
   "id": "554c942b",
   "metadata": {},
   "source": [
    "### Test"
   ]
  },
  {
   "cell_type": "code",
   "execution_count": 11,
   "id": "1b9aa4a6",
   "metadata": {
    "tags": []
   },
   "outputs": [],
   "source": [
    "L = np.array([[0, 0.8, 3.5], [0.8, 0, 0], [0, 0.9, 0]])"
   ]
  },
  {
   "cell_type": "code",
   "execution_count": 12,
   "id": "b2a2d082",
   "metadata": {},
   "outputs": [
    {
     "name": "stdout",
     "output_type": "stream",
     "text": [
      "[[0.  0.8 3.5]\n",
      " [0.8 0.  0. ]\n",
      " [0.  0.9 0. ]]\n"
     ]
    }
   ],
   "source": [
    "print(L)"
   ]
  },
  {
   "cell_type": "code",
   "execution_count": 15,
   "id": "20f84ebf",
   "metadata": {},
   "outputs": [],
   "source": [
    "e, m = la.eig(L)"
   ]
  },
  {
   "cell_type": "code",
   "execution_count": 17,
   "id": "76c015d6",
   "metadata": {},
   "outputs": [
    {
     "name": "stdout",
     "output_type": "stream",
     "text": [
      "[ 1.516972+0.j         -0.758486+1.04206671j -0.758486-1.04206671j]\n"
     ]
    }
   ],
   "source": [
    "print(e)"
   ]
  },
  {
   "cell_type": "code",
   "execution_count": 18,
   "id": "5016b78e",
   "metadata": {},
   "outputs": [
    {
     "name": "stdout",
     "output_type": "stream",
     "text": [
      "[[ 0.85249014+0.j         -0.79729604+0.j         -0.79729604-0.j        ]\n",
      " [ 0.44957462+0.j          0.29122871+0.40011252j  0.29122871-0.40011252j]\n",
      " [ 0.26672685+0.j          0.10621569-0.32883591j  0.10621569+0.32883591j]]\n"
     ]
    }
   ],
   "source": [
    "print(m)"
   ]
  },
  {
   "cell_type": "code",
   "execution_count": 19,
   "id": "6f149509",
   "metadata": {},
   "outputs": [
    {
     "data": {
      "text/plain": [
       "array([ 0.85249014+0.j, -0.79729604+0.j, -0.79729604-0.j])"
      ]
     },
     "execution_count": 19,
     "metadata": {},
     "output_type": "execute_result"
    }
   ],
   "source": [
    "m[0]"
   ]
  },
  {
   "cell_type": "code",
   "execution_count": 27,
   "id": "79d52e07",
   "metadata": {},
   "outputs": [],
   "source": [
    "L10 = matrix_power(L, 10)"
   ]
  },
  {
   "cell_type": "code",
   "execution_count": 28,
   "id": "b66395f9",
   "metadata": {},
   "outputs": [
    {
     "name": "stdout",
     "output_type": "stream",
     "text": [
      "[[15.71411722 53.85203712 65.25896832]\n",
      " [14.91633562 15.71411722 34.60951245]\n",
      " [ 8.89958892 16.78087757  7.80337152]]\n"
     ]
    }
   ],
   "source": [
    "print(L10)"
   ]
  },
  {
   "cell_type": "code",
   "execution_count": null,
   "id": "5d3a0e22",
   "metadata": {},
   "outputs": [],
   "source": []
  }
 ],
 "metadata": {
  "kernelspec": {
   "display_name": "Python 3",
   "language": "python",
   "name": "python3"
  },
  "language_info": {
   "codemirror_mode": {
    "name": "ipython",
    "version": 3
   },
   "file_extension": ".py",
   "mimetype": "text/x-python",
   "name": "python",
   "nbconvert_exporter": "python",
   "pygments_lexer": "ipython3",
   "version": "3.8.8"
  }
 },
 "nbformat": 4,
 "nbformat_minor": 5
}
