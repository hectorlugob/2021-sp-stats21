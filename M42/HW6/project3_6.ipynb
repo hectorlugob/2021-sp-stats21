{
 "cells": [
  {
   "cell_type": "code",
   "execution_count": 1,
   "id": "f785cf5a",
   "metadata": {},
   "outputs": [],
   "source": [
    "import numpy as np\n",
    "import scipy.linalg as la\n",
    "import matplotlib.pyplot as plt\n",
    "from numpy.linalg import matrix_power\n",
    "from numpy import math\n"
   ]
  },
  {
   "cell_type": "markdown",
   "id": "300d3cbd",
   "metadata": {},
   "source": [
    "### 1. Rates"
   ]
  },
  {
   "cell_type": "code",
   "execution_count": 2,
   "id": "02a4e9c6",
   "metadata": {},
   "outputs": [],
   "source": [
    "T = np.array([[0.1315060, 0.04727440715, 0.08654142285], [0.1282137268, 0.0487697, -0.007390749727]])"
   ]
  },
  {
   "cell_type": "code",
   "execution_count": 3,
   "id": "9784beaf",
   "metadata": {},
   "outputs": [
    {
     "name": "stdout",
     "output_type": "stream",
     "text": [
      "[[ 0.131506    0.04727441  0.08654142]\n",
      " [ 0.12821373  0.0487697  -0.00739075]]\n"
     ]
    }
   ],
   "source": [
    "print(T)"
   ]
  },
  {
   "cell_type": "markdown",
   "id": "b32ee399",
   "metadata": {},
   "source": [
    "### 2. Matrix Model"
   ]
  },
  {
   "cell_type": "code",
   "execution_count": 4,
   "id": "f3e3f285",
   "metadata": {},
   "outputs": [
    {
     "name": "stdout",
     "output_type": "stream",
     "text": [
      "[[1.17077302 0.        ]\n",
      " [0.         1.07205328]]\n",
      "---------------------------------------\n",
      "[ 15205.99992791 163040.00648382]\n"
     ]
    }
   ],
   "source": [
    "I = np.identity(2)\n",
    "B = np.array([[0.1315060, 0], [0, 0.1282137268]])\n",
    "D = np.array([[0.04727440715, 0], [0, 0.0487697]])\n",
    "M = np.array([[0.08654142285, 0], [0, -0.007390749727]])\n",
    "G = I + B - D + M\n",
    "x0 = np.array([12988, 152082])\n",
    "print(G)\n",
    "print(\"---------------------------------------\")\n",
    "print(G @ x0)"
   ]
  },
  {
   "cell_type": "markdown",
   "id": "5be90e58",
   "metadata": {},
   "source": [
    "### 3. Predictions"
   ]
  },
  {
   "cell_type": "code",
   "execution_count": 5,
   "id": "c56e56e8",
   "metadata": {},
   "outputs": [
    {
     "name": "stdout",
     "output_type": "stream",
     "text": [
      "12\n"
     ]
    }
   ],
   "source": [
    "ts = (2020 - 1960)/5\n",
    "t_steps = int(ts)\n",
    "print(t_steps)"
   ]
  },
  {
   "cell_type": "code",
   "execution_count": 6,
   "id": "12eded0c",
   "metadata": {},
   "outputs": [
    {
     "name": "stdout",
     "output_type": "stream",
     "text": [
      "[[0.42082348 0.41955363]\n",
      " [0.58503494 0.58714055]]\n"
     ]
    }
   ],
   "source": [
    "test = np.array([[0.301, 0.502], [0.7, 0.5]])\n",
    "caca = matrix_power(test, 4)\n",
    "print(caca)"
   ]
  },
  {
   "cell_type": "code",
   "execution_count": 7,
   "id": "322f6766",
   "metadata": {},
   "outputs": [
    {
     "name": "stdout",
     "output_type": "stream",
     "text": [
      "[[6.63242656 0.        ]\n",
      " [0.         2.3046046 ]]\n"
     ]
    }
   ],
   "source": [
    "G_12 = matrix_power(G, 12)\n",
    "print(G_12)"
   ]
  },
  {
   "cell_type": "code",
   "execution_count": 8,
   "id": "9d64651d",
   "metadata": {},
   "outputs": [
    {
     "name": "stdout",
     "output_type": "stream",
     "text": [
      "[ 86141.95613352 350488.87695447]\n"
     ]
    }
   ],
   "source": [
    "pop_2020 = x0 @ G_12\n",
    "print(pop_2020)"
   ]
  },
  {
   "cell_type": "code",
   "execution_count": 9,
   "id": "552ee4f5",
   "metadata": {},
   "outputs": [],
   "source": [
    "# Data obtained from https://www.worldometers.info/world-population/us-population/\n",
    "# and https://www.census.gov/quickfacts/CA\n",
    "true_pop_2020 = np.array([(39538223/1000), ((331002651-39538223)/1000)])"
   ]
  },
  {
   "cell_type": "code",
   "execution_count": 10,
   "id": "a6519cbe",
   "metadata": {},
   "outputs": [
    {
     "name": "stdout",
     "output_type": "stream",
     "text": [
      "[ 39538.223 291464.428]\n"
     ]
    }
   ],
   "source": [
    "print(true_pop_2020)"
   ]
  },
  {
   "cell_type": "code",
   "execution_count": 16,
   "id": "220a86a9",
   "metadata": {},
   "outputs": [
    {
     "data": {
      "text/plain": [
       "<function matplotlib.pyplot.show(close=None, block=None)>"
      ]
     },
     "execution_count": 16,
     "metadata": {},
     "output_type": "execute_result"
    },
    {
     "data": {
      "image/png": "[encoded data removed]",
      "text/plain": [
       "<Figure size 432x288 with 1 Axes>"
      ]
     },
     "metadata": {
      "needs_background": "light"
     },
     "output_type": "display_data"
    }
   ],
   "source": [
    "labels = ['Predicted Population', 'True Population']\n",
    "values = [pop_2020[0], true_pop_2020[0]]\n",
    "plt.bar(labels, values, color = [\"red\", \"green\"])\n",
    "plt.ylabel('Population in thousands of people')\n",
    "plt.title('California')\n",
    "plt.show"
   ]
  },
  {
   "cell_type": "code",
   "execution_count": 15,
   "id": "dbe258d2",
   "metadata": {},
   "outputs": [
    {
     "data": {
      "text/plain": [
       "<function matplotlib.pyplot.show(close=None, block=None)>"
      ]
     },
     "execution_count": 15,
     "metadata": {},
     "output_type": "execute_result"
    },
    {
     "data": {
      "image/png": "[encoded data removed]",
      "text/plain": [
       "<Figure size 432x288 with 1 Axes>"
      ]
     },
     "metadata": {
      "needs_background": "light"
     },
     "output_type": "display_data"
    }
   ],
   "source": [
    "labels = ['Predicted Population', 'True Population']\n",
    "values = [pop_2020[1], true_pop_2020[1]]\n",
    "plt.bar(labels, values, color = [\"purple\", \"yellow\"])\n",
    "plt.ylabel('Population in thousands of people')\n",
    "plt.title('Rest of U.S.')\n",
    "plt.show"
   ]
  },
  {
   "cell_type": "markdown",
   "id": "4bb787ae",
   "metadata": {},
   "source": [
    "### 4. Long-Term Analysis"
   ]
  },
  {
   "cell_type": "code",
   "execution_count": 33,
   "id": "b7bc7c47",
   "metadata": {},
   "outputs": [
    {
     "name": "stdout",
     "output_type": "stream",
     "text": [
      "The dominant eigenvalue is 1.1707730157\n",
      "The vector associated with the dominant eigenvalue is [1. 0.]\n"
     ]
    }
   ],
   "source": [
    "evals, evecs = la.eig(G)\n",
    "#print(evals)\n",
    "#print(evecs)\n",
    "deval = max(abs(evals))\n",
    "print(\"The dominant eigenvalue is\", deval)\n",
    "print(\"The vector associated with the dominant eigenvalue is\", evecs[0])"
   ]
  },
  {
   "cell_type": "markdown",
   "id": "2733da2e",
   "metadata": {},
   "source": [
    "We obtained these interesting eigenvalues and eigenvectors due to the fact that the matrix G is a diagonal matrix, so the eigenvalues are the diagonal entries. \n",
    "<br>This is not a realistic scenario, because it implies that in the long run all the population will be in California.\n",
    "<br>The populations are growing at a rate of 17% and 7.2%, respectively.\n",
    "<br>The long-term proportions of people in California is 100% and rest of U.S. 0%, which is again, unrealistic."
   ]
  },
  {
   "cell_type": "markdown",
   "id": "29169b72",
   "metadata": {},
   "source": [
    "### 5. Higher Resolution Migration Model"
   ]
  },
  {
   "cell_type": "code",
   "execution_count": null,
   "id": "f81e9973",
   "metadata": {},
   "outputs": [],
   "source": []
  }
 ],
 "metadata": {
  "kernelspec": {
   "display_name": "Python 3",
   "language": "python",
   "name": "python3"
  },
  "language_info": {
   "codemirror_mode": {
    "name": "ipython",
    "version": 3
   },
   "file_extension": ".py",
   "mimetype": "text/x-python",
   "name": "python",
   "nbconvert_exporter": "python",
   "pygments_lexer": "ipython3",
   "version": "3.8.8"
  }
 },
 "nbformat": 4,
 "nbformat_minor": 5
}
