{
 "cells": [
  {
   "cell_type": "markdown",
   "id": "2f11d791",
   "metadata": {},
   "source": [
    "# Project 3.6. California II: Using Matrices\n",
    "## Hector Lugo Barrios, M42 S21"
   ]
  },
  {
   "cell_type": "code",
   "execution_count": 1,
   "id": "a2951a6b",
   "metadata": {},
   "outputs": [],
   "source": [
    "import numpy as np\n",
    "import scipy.linalg as la\n",
    "import matplotlib.pyplot as plt\n",
    "from numpy.linalg import matrix_power\n",
    "from numpy import math\n"
   ]
  },
  {
   "cell_type": "markdown",
   "id": "cfef4f28",
   "metadata": {},
   "source": [
    "### 1. Rates"
   ]
  },
  {
   "cell_type": "code",
   "execution_count": 2,
   "id": "d9c1f7a1",
   "metadata": {},
   "outputs": [],
   "source": [
    "table = np.array([[0.1315060, 0.04727440715, 0.08654142285], [0.1282137268, 0.0487697, -0.007390749727]])"
   ]
  },
  {
   "cell_type": "code",
   "execution_count": 3,
   "id": "5c6b9373",
   "metadata": {},
   "outputs": [
    {
     "name": "stdout",
     "output_type": "stream",
     "text": [
      "[[ 0.131506    0.04727441  0.08654142]\n",
      " [ 0.12821373  0.0487697  -0.00739075]]\n"
     ]
    }
   ],
   "source": [
    "print(table)"
   ]
  },
  {
   "cell_type": "markdown",
   "id": "4a4acada",
   "metadata": {},
   "source": [
    "### 2. Matrix Model"
   ]
  },
  {
   "cell_type": "code",
   "execution_count": 4,
   "id": "34274d99",
   "metadata": {},
   "outputs": [
    {
     "name": "stdout",
     "output_type": "stream",
     "text": [
      "[[1.17077302 0.        ]\n",
      " [0.         1.07205328]]\n",
      "---------------------------------------\n",
      "[ 15205.99992791 163040.00648382]\n"
     ]
    }
   ],
   "source": [
    "I = np.identity(2)\n",
    "B = np.array([[0.1315060, 0], [0, 0.1282137268]])\n",
    "D = np.array([[0.04727440715, 0], [0, 0.0487697]])\n",
    "M = np.array([[0.08654142285, 0], [0, -0.007390749727]])\n",
    "G = I + B - D + M\n",
    "x0 = np.array([12988, 152082])\n",
    "print(G)\n",
    "print(\"---------------------------------------\")\n",
    "print(G @ x0)"
   ]
  },
  {
   "cell_type": "markdown",
   "id": "a56f3081",
   "metadata": {},
   "source": [
    "This model accurately gives the 1960 data."
   ]
  },
  {
   "cell_type": "markdown",
   "id": "0cca0318",
   "metadata": {},
   "source": [
    "### 3. Predictions"
   ]
  },
  {
   "cell_type": "code",
   "execution_count": 5,
   "id": "768a9fce",
   "metadata": {},
   "outputs": [
    {
     "name": "stdout",
     "output_type": "stream",
     "text": [
      "12\n"
     ]
    }
   ],
   "source": [
    "ts = (2020 - 1960)/5\n",
    "t_steps = int(ts)\n",
    "print(t_steps)"
   ]
  },
  {
   "cell_type": "code",
   "execution_count": 6,
   "id": "ad590d58",
   "metadata": {},
   "outputs": [
    {
     "name": "stdout",
     "output_type": "stream",
     "text": [
      "[[6.63242656 0.        ]\n",
      " [0.         2.3046046 ]]\n"
     ]
    }
   ],
   "source": [
    "G_12 = matrix_power(G, t_steps)\n",
    "print(G_12)"
   ]
  },
  {
   "cell_type": "code",
   "execution_count": 7,
   "id": "56287d6b",
   "metadata": {},
   "outputs": [
    {
     "name": "stdout",
     "output_type": "stream",
     "text": [
      "[ 86141.95613352 350488.87695447]\n"
     ]
    }
   ],
   "source": [
    "pop_2020 = G_12 @ x0\n",
    "print(pop_2020)"
   ]
  },
  {
   "cell_type": "code",
   "execution_count": 8,
   "id": "87016d11",
   "metadata": {},
   "outputs": [],
   "source": [
    "# Data obtained from https://www.worldometers.info/world-population/us-population/\n",
    "# and https://www.census.gov/quickfacts/CA\n",
    "true_pop_2020 = np.array([(39538223/1000), ((331002651-39538223)/1000)])"
   ]
  },
  {
   "cell_type": "code",
   "execution_count": 9,
   "id": "35f0097b",
   "metadata": {},
   "outputs": [
    {
     "name": "stdout",
     "output_type": "stream",
     "text": [
      "[ 39538.223 291464.428]\n"
     ]
    }
   ],
   "source": [
    "print(true_pop_2020)"
   ]
  },
  {
   "cell_type": "code",
   "execution_count": 10,
   "id": "4f9bc6f2",
   "metadata": {},
   "outputs": [
    {
     "data": {
      "text/plain": [
       "<function matplotlib.pyplot.show(close=None, block=None)>"
      ]
     },
     "execution_count": 10,
     "metadata": {},
     "output_type": "execute_result"
    },
    {
     "data": {
      "image/png": "[encoded data removed]",
      "text/plain": [
       "<Figure size 432x288 with 1 Axes>"
      ]
     },
     "metadata": {
      "needs_background": "light"
     },
     "output_type": "display_data"
    }
   ],
   "source": [
    "labels = ['Predicted Population', 'True Population']\n",
    "values = [pop_2020[0], true_pop_2020[0]]\n",
    "plt.bar(labels, values, color = [\"red\", \"green\"])\n",
    "plt.ylabel('Population in thousands of people')\n",
    "plt.title('California in 2020')\n",
    "plt.show"
   ]
  },
  {
   "cell_type": "code",
   "execution_count": 11,
   "id": "efb146dd",
   "metadata": {},
   "outputs": [
    {
     "data": {
      "text/plain": [
       "<function matplotlib.pyplot.show(close=None, block=None)>"
      ]
     },
     "execution_count": 11,
     "metadata": {},
     "output_type": "execute_result"
    },
    {
     "data": {
      "image/png": "[encoded data removed]",
      "text/plain": [
       "<Figure size 432x288 with 1 Axes>"
      ]
     },
     "metadata": {
      "needs_background": "light"
     },
     "output_type": "display_data"
    }
   ],
   "source": [
    "labels = ['Predicted Population', 'True Population']\n",
    "values = [pop_2020[1], true_pop_2020[1]]\n",
    "plt.bar(labels, values, color = [\"purple\", \"yellow\"])\n",
    "plt.ylabel('Population in thousands of people')\n",
    "plt.title('Rest of U.S. in 2020')\n",
    "plt.show"
   ]
  },
  {
   "cell_type": "markdown",
   "id": "e2c63b46",
   "metadata": {},
   "source": [
    "### 4. Long-Term Analysis"
   ]
  },
  {
   "cell_type": "code",
   "execution_count": 12,
   "id": "6cb22caa",
   "metadata": {},
   "outputs": [
    {
     "name": "stdout",
     "output_type": "stream",
     "text": [
      "The dominant eigenvalue is 1.1707730157\n",
      "The vector associated with the dominant eigenvalue is [1. 0.]\n"
     ]
    }
   ],
   "source": [
    "evals, evecs = la.eig(G)\n",
    "#print(evals)\n",
    "#print(evecs)\n",
    "deval = max(abs(evals))\n",
    "print(\"The dominant eigenvalue is\", deval)\n",
    "print(\"The vector associated with the dominant eigenvalue is\", evecs[0])"
   ]
  },
  {
   "cell_type": "markdown",
   "id": "8ac92e22",
   "metadata": {},
   "source": [
    "We obtained these interesting eigenvalues and eigenvectors due to the fact that the matrix G is a diagonal matrix, so the eigenvalues are the diagonal entries. \n",
    "<br>This is not a realistic scenario, because it implies that in the long run all the population will be in California.\n",
    "<br>The populations are growing at a rate of 17% and 7.2%, respectively.\n",
    "<br>The long-term proportions of people in California is 100% and rest of U.S. 0%, which is again, unrealistic."
   ]
  },
  {
   "cell_type": "markdown",
   "id": "973c55b6",
   "metadata": {},
   "source": [
    "### 5. Higher Resolution Migration Model"
   ]
  },
  {
   "cell_type": "code",
   "execution_count": 13,
   "id": "e36489d3",
   "metadata": {},
   "outputs": [
    {
     "name": "stdout",
     "output_type": "stream",
     "text": [
      "[[0.93732676 0.01274313]\n",
      " [0.06267324 0.98725687]]\n"
     ]
    }
   ],
   "source": [
    "T = np.array([[0.9373267632, 0.01274312542], [0.06267323683, 0.9872568746]])\n",
    "print(T)"
   ]
  },
  {
   "cell_type": "code",
   "execution_count": 14,
   "id": "924f6163",
   "metadata": {},
   "outputs": [
    {
     "name": "stdout",
     "output_type": "stream",
     "text": [
      "The eigenvalues are [0.92458364+0.j 1.        +0.j]\n",
      "The dominant eigenvalue is 1.0000000000216898\n"
     ]
    }
   ],
   "source": [
    "Tevals, Tevecs = la.eig(T)\n",
    "print(\"The eigenvalues are\", Tevals)\n",
    "#print(Tevecs)\n",
    "Tdeval = max(abs(Tevals))\n",
    "print(\"The dominant eigenvalue is\", Tdeval)"
   ]
  },
  {
   "cell_type": "markdown",
   "id": "09ac54e3",
   "metadata": {},
   "source": [
    "This is a model for a nonabsorbing Markov chain because we don't have absorbing states. Moving to California doesn't have a probability of 1 of staying in California, and the same applies to the rest of U.S.\n",
    "<br> The eigenvalues do not make sense under the stated conditions, the model is still incomplete."
   ]
  },
  {
   "cell_type": "markdown",
   "id": "767679d0",
   "metadata": {},
   "source": [
    "### 6. Putting It All Together"
   ]
  },
  {
   "cell_type": "code",
   "execution_count": 15,
   "id": "9f6f6aaa",
   "metadata": {},
   "outputs": [
    {
     "name": "stdout",
     "output_type": "stream",
     "text": [
      "[[1.02155836 0.01274313]\n",
      " [0.06267324 1.0667009 ]]\n"
     ]
    }
   ],
   "source": [
    "Gc = B - D + T\n",
    "print(Gc)"
   ]
  },
  {
   "cell_type": "code",
   "execution_count": 16,
   "id": "b9d8dbcc",
   "metadata": {},
   "outputs": [
    {
     "name": "stdout",
     "output_type": "stream",
     "text": [
      "[ 15205.9999285  163040.00648666]\n"
     ]
    }
   ],
   "source": [
    "x0 = np.array([12988, 152082])\n",
    "p1965 = Gc @ x0\n",
    "print(p1965)"
   ]
  },
  {
   "cell_type": "code",
   "execution_count": 17,
   "id": "7e6b63d5",
   "metadata": {},
   "outputs": [
    {
     "name": "stdout",
     "output_type": "stream",
     "text": [
      "[1.00796175+0.j 1.0802975 +0.j]\n",
      "[[-0.68383572 -0.21201253]\n",
      " [ 0.72963601 -0.97726695]]\n",
      "The dominant eigenvalue is 1.0802975049077572\n",
      "The vector associated with the dominant eigenvalue is [ 0.72963601 -0.97726695]\n"
     ]
    }
   ],
   "source": [
    "eval, evec = la.eig(Gc)\n",
    "print(eval)\n",
    "print(evec)\n",
    "Gcdeval = max(abs(eval))\n",
    "print(\"The dominant eigenvalue is\", Gcdeval)\n",
    "print(\"The vector associated with the dominant eigenvalue is\", evec[1])"
   ]
  },
  {
   "cell_type": "markdown",
   "id": "f38e0cb5",
   "metadata": {},
   "source": [
    "Computation error in the last part, I got negative values mixed with positive in the vector associated with dominant eigenvalue. I'm not sure where I messed up :("
   ]
  }
 ],
 "metadata": {
  "kernelspec": {
   "display_name": "Python 3",
   "language": "python",
   "name": "python3"
  },
  "language_info": {
   "codemirror_mode": {
    "name": "ipython",
    "version": 3
   },
   "file_extension": ".py",
   "mimetype": "text/x-python",
   "name": "python",
   "nbconvert_exporter": "python",
   "pygments_lexer": "ipython3",
   "version": "3.8.8"
  }
 },
 "nbformat": 4,
 "nbformat_minor": 5
}
