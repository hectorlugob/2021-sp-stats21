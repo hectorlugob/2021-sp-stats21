{
 "cells": [
  {
   "cell_type": "markdown",
   "id": "a6dc87fa",
   "metadata": {},
   "source": [
    "Hello hello hello. This is Markdown"
   ]
  },
  {
   "cell_type": "code",
   "execution_count": 2,
   "id": "015b33db",
   "metadata": {},
   "outputs": [
    {
     "data": {
      "text/plain": [
       "8"
      ]
     },
     "execution_count": 2,
     "metadata": {},
     "output_type": "execute_result"
    }
   ],
   "source": [
    "# This is code\n",
    "3 + 5"
   ]
  },
  {
   "cell_type": "markdown",
   "id": "362d6c52",
   "metadata": {},
   "source": [
    "This is also Markdown"
   ]
  },
  {
   "cell_type": "code",
   "execution_count": 3,
   "id": "baa6c60e",
   "metadata": {},
   "outputs": [
    {
     "data": {
      "text/plain": [
       "'Hello hello hello\\n3+5'"
      ]
     },
     "execution_count": 3,
     "metadata": {},
     "output_type": "execute_result"
    }
   ],
   "source": [
    "In[1]"
   ]
  },
  {
   "cell_type": "code",
   "execution_count": 4,
   "id": "19241599",
   "metadata": {},
   "outputs": [
    {
     "data": {
      "text/plain": [
       "'# This is code\\n3 + 5'"
      ]
     },
     "execution_count": 4,
     "metadata": {},
     "output_type": "execute_result"
    }
   ],
   "source": [
    "In[2]"
   ]
  },
  {
   "cell_type": "code",
   "execution_count": 5,
   "id": "e6aa035d",
   "metadata": {},
   "outputs": [
    {
     "data": {
      "text/plain": [
       "'In[1]'"
      ]
     },
     "execution_count": 5,
     "metadata": {},
     "output_type": "execute_result"
    }
   ],
   "source": [
    "In[3]"
   ]
  },
  {
   "cell_type": "markdown",
   "id": "f451a1ed",
   "metadata": {},
   "source": [
    "### Math Operations with Strings"
   ]
  },
  {
   "cell_type": "code",
   "execution_count": 9,
   "id": "cd8bbd69",
   "metadata": {},
   "outputs": [
    {
     "data": {
      "text/plain": [
       "'hellohellohellohello'"
      ]
     },
     "execution_count": 9,
     "metadata": {},
     "output_type": "execute_result"
    }
   ],
   "source": [
    "4*\"hello\""
   ]
  },
  {
   "cell_type": "code",
   "execution_count": 12,
   "id": "32bda857",
   "metadata": {},
   "outputs": [
    {
     "name": "stdout",
     "output_type": "stream",
     "text": [
      "This is a scratch script\n",
      "8\n"
     ]
    }
   ],
   "source": [
    "%run Scratch.py"
   ]
  },
  {
   "cell_type": "code",
   "execution_count": 21,
   "id": "132adaa0",
   "metadata": {},
   "outputs": [],
   "source": [
    "name = \"Fausto\""
   ]
  },
  {
   "cell_type": "code",
   "execution_count": 14,
   "id": "4243329f",
   "metadata": {},
   "outputs": [
    {
     "ename": "NameError",
     "evalue": "name 'name' is not defined",
     "output_type": "error",
     "traceback": [
      "\u001b[1;31m---------------------------------------------------------------------------\u001b[0m",
      "\u001b[1;31mNameError\u001b[0m                                 Traceback (most recent call last)",
      "\u001b[1;32m~\\2021-sp-stats21\\Scratch2.py\u001b[0m in \u001b[0;36m<module>\u001b[1;34m\u001b[0m\n\u001b[1;32m----> 1\u001b[1;33m \u001b[0mprint\u001b[0m\u001b[1;33m(\u001b[0m\u001b[1;34m'Hello'\u001b[0m \u001b[1;33m+\u001b[0m \u001b[0mname\u001b[0m\u001b[1;33m)\u001b[0m\u001b[1;33m\u001b[0m\u001b[1;33m\u001b[0m\u001b[0m\n\u001b[0m\u001b[0;32m      2\u001b[0m \u001b[0mprint\u001b[0m\u001b[1;33m(\u001b[0m\u001b[1;34m\"It's Friday\"\u001b[0m\u001b[1;33m)\u001b[0m\u001b[1;33m\u001b[0m\u001b[1;33m\u001b[0m\u001b[0m\n",
      "\u001b[1;31mNameError\u001b[0m: name 'name' is not defined"
     ]
    }
   ],
   "source": [
    "%run Scratch2.py"
   ]
  },
  {
   "cell_type": "code",
   "execution_count": 22,
   "id": "8bed0406",
   "metadata": {},
   "outputs": [
    {
     "name": "stdout",
     "output_type": "stream",
     "text": [
      "Hello Fausto\n",
      "It's Friday\n"
     ]
    }
   ],
   "source": [
    "%run -i Scratch2.py"
   ]
  },
  {
   "cell_type": "code",
   "execution_count": 23,
   "id": "c0392336",
   "metadata": {},
   "outputs": [
    {
     "name": "stderr",
     "output_type": "stream",
     "text": [
      "'cat' is not recognized as an internal or external command,\n",
      "operable program or batch file.\n"
     ]
    }
   ],
   "source": [
    "!cat Scratch2.py"
   ]
  },
  {
   "cell_type": "code",
   "execution_count": 24,
   "id": "c92a1092",
   "metadata": {},
   "outputs": [
    {
     "name": "stdout",
     "output_type": "stream",
     "text": [
      "print('This is a scratch script')\n",
      "print(3 + 5)\n",
      "x = 3\n"
     ]
    }
   ],
   "source": [
    "!Type Scratch.py"
   ]
  },
  {
   "cell_type": "markdown",
   "id": "fd3e8b5a",
   "metadata": {
    "tags": []
   },
   "source": [
    "### Last output value"
   ]
  },
  {
   "cell_type": "code",
   "execution_count": 25,
   "id": "b60f75f8",
   "metadata": {},
   "outputs": [
    {
     "data": {
      "text/plain": [
       "11"
      ]
     },
     "execution_count": 25,
     "metadata": {},
     "output_type": "execute_result"
    }
   ],
   "source": [
    "2+9"
   ]
  },
  {
   "cell_type": "code",
   "execution_count": 26,
   "id": "ae393175",
   "metadata": {},
   "outputs": [
    {
     "data": {
      "text/plain": [
       "14"
      ]
     },
     "execution_count": 26,
     "metadata": {},
     "output_type": "execute_result"
    }
   ],
   "source": [
    "_ + 3"
   ]
  },
  {
   "cell_type": "code",
   "execution_count": 32,
   "id": "400f1987",
   "metadata": {},
   "outputs": [
    {
     "name": "stdout",
     "output_type": "stream",
     "text": [
      "14\n"
     ]
    }
   ],
   "source": [
    "a = 3 + 4 + 1 \\\n",
    "    + 6\n",
    "print(a)"
   ]
  },
  {
   "cell_type": "markdown",
   "id": "658b90a4",
   "metadata": {},
   "source": [
    "### Contextual Help"
   ]
  },
  {
   "cell_type": "markdown",
   "id": "43e8dbc9",
   "metadata": {},
   "source": [
    "help -> show contextual help"
   ]
  },
  {
   "cell_type": "code",
   "execution_count": 2,
   "id": "1a706233",
   "metadata": {},
   "outputs": [
    {
     "name": "stdout",
     "output_type": "stream",
     "text": [
      "hello\n"
     ]
    }
   ],
   "source": [
    "print(\"hello\")"
   ]
  },
  {
   "cell_type": "code",
   "execution_count": 3,
   "id": "8ce3c468",
   "metadata": {},
   "outputs": [
    {
     "data": {
      "text/plain": [
       "str"
      ]
     },
     "execution_count": 3,
     "metadata": {},
     "output_type": "execute_result"
    }
   ],
   "source": [
    "type(\"ola\")"
   ]
  },
  {
   "cell_type": "code",
   "execution_count": 4,
   "id": "75381e5f",
   "metadata": {},
   "outputs": [
    {
     "data": {
      "text/plain": [
       "array([ 95.2, 117. , 136.8])"
      ]
     },
     "execution_count": 4,
     "metadata": {},
     "output_type": "execute_result"
    }
   ],
   "source": [
    "height = [1.7, 1.8, 1.9]\n",
    "weight = [56, 65, 72]\n",
    "import numpy as np\n",
    "np_height = np.array(height)\n",
    "np_weight = np.array(weight)\n",
    "bmi = np_height * np_weight\n",
    "bmi"
   ]
  },
  {
   "cell_type": "markdown",
   "id": "3f2085b7",
   "metadata": {},
   "source": [
    "### LECTURE 4-3"
   ]
  },
  {
   "cell_type": "code",
   "execution_count": 20,
   "id": "7a64a7d4",
   "metadata": {},
   "outputs": [],
   "source": [
    "fout = open('testl43.txt', 'w')"
   ]
  },
  {
   "cell_type": "code",
   "execution_count": 21,
   "id": "e58277ef",
   "metadata": {},
   "outputs": [],
   "source": [
    "line1 = \"this is first hahha line.\\n\""
   ]
  },
  {
   "cell_type": "code",
   "execution_count": 22,
   "id": "a116ce4a",
   "metadata": {},
   "outputs": [
    {
     "data": {
      "text/plain": [
       "26"
      ]
     },
     "execution_count": 22,
     "metadata": {},
     "output_type": "execute_result"
    }
   ],
   "source": [
    "fout.write(line1)"
   ]
  },
  {
   "cell_type": "code",
   "execution_count": 23,
   "id": "739f65ae",
   "metadata": {},
   "outputs": [],
   "source": [
    "fout.close()"
   ]
  },
  {
   "cell_type": "code",
   "execution_count": 24,
   "id": "1c056db6",
   "metadata": {},
   "outputs": [
    {
     "data": {
      "text/plain": [
       "1"
      ]
     },
     "execution_count": 24,
     "metadata": {},
     "output_type": "execute_result"
    }
   ],
   "source": [
    "5 // 3"
   ]
  },
  {
   "cell_type": "code",
   "execution_count": 25,
   "id": "3833589e",
   "metadata": {},
   "outputs": [
    {
     "data": {
      "text/plain": [
       "2"
      ]
     },
     "execution_count": 25,
     "metadata": {},
     "output_type": "execute_result"
    }
   ],
   "source": [
    "10 // 4"
   ]
  },
  {
   "cell_type": "code",
   "execution_count": 26,
   "id": "5fbebbd7",
   "metadata": {},
   "outputs": [
    {
     "data": {
      "text/plain": [
       "1"
      ]
     },
     "execution_count": 26,
     "metadata": {},
     "output_type": "execute_result"
    }
   ],
   "source": [
    "15 // 10"
   ]
  },
  {
   "cell_type": "code",
   "execution_count": null,
   "id": "c9a50c1a",
   "metadata": {},
   "outputs": [],
   "source": []
  }
 ],
 "metadata": {
  "kernelspec": {
   "display_name": "Python 3",
   "language": "python",
   "name": "python3"
  },
  "language_info": {
   "codemirror_mode": {
    "name": "ipython",
    "version": 3
   },
   "file_extension": ".py",
   "mimetype": "text/x-python",
   "name": "python",
   "nbconvert_exporter": "python",
   "pygments_lexer": "ipython3",
   "version": "3.8.8"
  }
 },
 "nbformat": 4,
 "nbformat_minor": 5
}
