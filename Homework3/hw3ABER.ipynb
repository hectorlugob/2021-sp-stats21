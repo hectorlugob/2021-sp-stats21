{
 "cells": [
  {
   "cell_type": "markdown",
   "metadata": {
    "tags": []
   },
   "source": [
    "# Stats 21: Homework 2"
   ]
  },
  {
   "cell_type": "markdown",
   "metadata": {},
   "source": [
    "## Hector Lugo Barrios"
   ]
  },
  {
   "cell_type": "markdown",
   "metadata": {},
   "source": [
    "Homework copyright Miles Chen. Problems have been adapted from teh exercises in Think Python 2nd Ed by Allen B. Downey.\n",
    "\n",
    "The questions have been entered into this document. You will modify the document by entering your code.\n",
    "\n",
    "Make sure you run the cell so the requested output is visible. Download the finished document as a PDF file. If you are unable to convert it to a PDF, you can download it as an HTML file and then print to PDF.\n",
    "\n",
    "**Homework is an opportunity to practice coding and to practice problem solving. Doing exercises is where you will do most of your learning.**\n",
    "\n",
    "**Copying someone else's solutions takes away your learning opportunities. It is also academic dishonesty.**"
   ]
  },
  {
   "cell_type": "markdown",
   "metadata": {},
   "source": [
    "## Reading\n",
    "\n",
    "- Chapters 11, 12, and 14\n",
    "\n",
    "Please keep up with the reading. The chapters are short."
   ]
  },
  {
   "cell_type": "code",
   "execution_count": 129,
   "metadata": {},
   "outputs": [],
   "source": [
    "import pandas as pd\n",
    "import numpy as np"
   ]
  },
  {
   "cell_type": "markdown",
   "metadata": {},
   "source": [
    "### Exercise 11.1\n",
    "\n",
    "Write a function that reads the words in `words.txt` and stores them as keys in a dictionary. It doesn't matter what the values are. Then you can use the in operator as a fast way to\n",
    "check whether a string is in the dictionary.\n",
    "\n",
    "Use the same `words.txt` file from HW2.\n",
    "\n",
    "Do Exercise 10.10 but this time searching the dictionary using the `in` operator. You can see how much faster it is to search a dictionary."
   ]
  },
  {
   "cell_type": "code",
   "execution_count": 130,
   "metadata": {},
   "outputs": [],
   "source": [
    "def make_word_dict():\n",
    "    fin = open('words.txt')\n",
    "    empty = {}\n",
    "    t = []\n",
    "    n = 1\n",
    "    for line in fin:\n",
    "        word = line.strip()\n",
    "        t.append(word)\n",
    "    for i in t:\n",
    "        empty[i] = n\n",
    "        n += 1\n",
    "    return empty"
   ]
  },
  {
   "cell_type": "code",
   "execution_count": 131,
   "metadata": {},
   "outputs": [],
   "source": [
    "word_dict = make_word_dict()"
   ]
  },
  {
   "cell_type": "code",
   "execution_count": 132,
   "metadata": {},
   "outputs": [
    {
     "data": {
      "text/plain": [
       "True"
      ]
     },
     "execution_count": 132,
     "metadata": {},
     "output_type": "execute_result"
    }
   ],
   "source": [
    "\"hello\" in word_dict"
   ]
  },
  {
   "cell_type": "markdown",
   "metadata": {},
   "source": [
    "### Exercise 11.4\n",
    "\n",
    "In Exercise 10.7, you created a function called `has_duplicates()`. It takes a list as a parameter and returns `True` if there is any object that appears more than once in the list.\n",
    "\n",
    "Use a dictionary to write a faster, simpler version of `has_duplicates()`."
   ]
  },
  {
   "cell_type": "code",
   "execution_count": 133,
   "metadata": {},
   "outputs": [],
   "source": [
    "def has_duplicates(t):\n",
    "    empty = {}\n",
    "    for i in t:\n",
    "        empty[i] = 1\n",
    "    return len(t) != len(empty)"
   ]
  },
  {
   "cell_type": "code",
   "execution_count": 134,
   "metadata": {},
   "outputs": [
    {
     "data": {
      "text/plain": [
       "True"
      ]
     },
     "execution_count": 134,
     "metadata": {},
     "output_type": "execute_result"
    }
   ],
   "source": [
    "has_duplicates(['a','b','b','c'])"
   ]
  },
  {
   "cell_type": "code",
   "execution_count": 135,
   "metadata": {},
   "outputs": [
    {
     "data": {
      "text/plain": [
       "True"
      ]
     },
     "execution_count": 135,
     "metadata": {},
     "output_type": "execute_result"
    }
   ],
   "source": [
    "has_duplicates(['a','b','c','a'])"
   ]
  },
  {
   "cell_type": "code",
   "execution_count": 136,
   "metadata": {},
   "outputs": [
    {
     "data": {
      "text/plain": [
       "False"
      ]
     },
     "execution_count": 136,
     "metadata": {},
     "output_type": "execute_result"
    }
   ],
   "source": [
    "has_duplicates(['a', 'b', 'c', 'd', 'e', 'm'])"
   ]
  },
  {
   "cell_type": "markdown",
   "metadata": {},
   "source": [
    "### Exercise 11.5\n",
    "\n",
    "A Caesar cipher is a weak form of encryption that involves 'rotating' each letter by a fixed number of places. To rotate a letter means to shift it through the alphabet, wrapping around to the beginning if necessary. \"A\" rotated by 3 is \"D\". \"Z\" rotated by 1 is \"A\".\n",
    "\n",
    "Two words are \"rotate pairs\" if you can rotate one of them and get the other. For example, \"cheer\" rotated by 7 is \"jolly\".\n",
    "\n",
    "Write a script that reads in the wordlist `words.txt` and finds all the rotate pairs of words that are 5 letters or longer.\n",
    "\n",
    "One function that could be helpful is the function `ord()` which converts a character to a numeric code. Keep in mind that numeric codes for uppercase and lowercase letters are different.\n",
    "\n",
    "Some hints:\n",
    "\n",
    "- you can write helper functions, such as a function that will rotate a letter by a certain number and/or another function that will rotate a word by a number of letters\n",
    "- to keep your script running quickly, you should use the wordlist dictionary from exercise 11.1"
   ]
  },
  {
   "cell_type": "code",
   "execution_count": 49,
   "metadata": {
    "tags": []
   },
   "outputs": [],
   "source": [
    "def rotation(word, number):\n",
    "    rotated = ''\n",
    "    for letter in word.lower():\n",
    "        if (ord(letter) + number) > 122:\n",
    "            a = ord(letter) + number\n",
    "            x = a - 122\n",
    "            temp = chr(96 + x)\n",
    "            #print(letter, \"temp\", temp)\n",
    "            rotated = rotated + temp\n",
    "        else:\n",
    "            rotated = rotated + chr(ord(letter) + number) \n",
    "    return rotated\n",
    "\n",
    "def moreThan5():\n",
    "    empty = {}\n",
    "    n = 1\n",
    "    for i in word_dict.keys():\n",
    "        if len(i) >= 5:\n",
    "            empty[i] = n\n",
    "            n += 1\n",
    "    return empty\n",
    "\n",
    "new = moreThan5()\n",
    "for i in new.keys():\n",
    "    for k in new.keys():\n",
    "        for j in range(1, 26):\n",
    "            if (rotation(i, j) == k):\n",
    "                print(i, \"is a rotate pair of\", k)"
   ]
  },
  {
   "cell_type": "markdown",
   "metadata": {},
   "source": [
    "I tried running the above code, but the kernel stopped working every time. Then I tried it with a different text file with less words and it worked fine. I could not get it to work for the `words.txt` file. :("
   ]
  },
  {
   "cell_type": "code",
   "execution_count": 137,
   "metadata": {},
   "outputs": [
    {
     "name": "stdout",
     "output_type": "stream",
     "text": [
      "a rotated by 26 is a\n",
      "a rotated by 25 is z\n"
     ]
    }
   ],
   "source": [
    "print(\"a rotated by 26 is\", rotation(\"a\", 26))\n",
    "print(\"a rotated by 25 is\", rotation(\"a\", 25))"
   ]
  },
  {
   "cell_type": "markdown",
   "metadata": {},
   "source": [
    "### Exercise 12.2\n",
    "\n",
    "Write a program that reads a word list from a file (see Section 9.1) and finds all the sets of words that are anagrams.\n",
    "\n",
    "After finding all anagram sets, print the list of all anagram sets that have 6 or more entries in it.\n",
    "\n",
    "Here is an example of what the output might look like:\n",
    "\n",
    "~~~\n",
    "['abets', 'baste', 'bates', 'beast', 'beats', 'betas', 'tabes']\n",
    "['acers', 'acres', 'cares', 'carse', 'escar', 'races', 'scare', 'serac']\n",
    "['acred', 'arced', 'cadre', 'cared', 'cedar', 'raced']\n",
    "...\n",
    "~~~\n",
    "\n",
    "Hint:\n",
    "\n",
    "First traverse the entire wordlist to build a dictionary that maps from a collection of letters to a list of words that can be spelled with those letters. The question is, how can you represent the collection of letters in a way that can be used as a key? i.e. The word \"eat\" and the word \"tea\" should be in a list associated with a key ('a','e','t')."
   ]
  },
  {
   "cell_type": "code",
   "execution_count": 138,
   "metadata": {
    "tags": []
   },
   "outputs": [
    {
     "name": "stdout",
     "output_type": "stream",
     "text": [
      "['acers', 'acres', 'cares', 'carse', 'escar', 'races', 'scare']\n",
      "['acers', 'acres', 'cares', 'carse', 'escar', 'races', 'scare', 'serac']\n"
     ]
    }
   ],
   "source": [
    "def is_anagram(word1, word2):\n",
    "    isAnagram = False\n",
    "    plain1 = word1.replace(\" \",\"\").lower()\n",
    "    plain2 = word2.replace(\" \",\"\").lower()\n",
    "    #print(sorted(plain1))\n",
    "    #print(sorted(plain2))\n",
    "    if sorted(plain1) == sorted(plain2):\n",
    "        isAnagram = True\n",
    "    else:\n",
    "        isAnagram = False\n",
    "    return isAnagram\n",
    "\n",
    "def anagramSets():\n",
    "    empty = []\n",
    "    for j in word_dict.keys():\n",
    "            if (is_anagram(\"acers\", j)):\n",
    "                empty.append(j)\n",
    "                if len(empty) >= 7:       \n",
    "                    print(empty)\n",
    "\n",
    "test = {\"acers\":1, \"acres\":2, \"cares\":3, \"nada\":4, \"perro\":5}\n",
    "for i in range(len(cac.keys())):\n",
    "    #print(\"i is\", i, \"key is\", list(cac.keys())[i])\n",
    "    for j in range(1, len(test.keys())):\n",
    "        #print(is_anagram(list(test.keys())[i], list(test.keys())[j]))\n",
    "        pass\n",
    "\n",
    "anagramSets()\n"
   ]
  },
  {
   "cell_type": "markdown",
   "metadata": {},
   "source": [
    "My idea was to iterate over the dictionary keys and test the function `is_anagram`. Unfortunately I couldn't figure out how to create a list and append each key that came out True."
   ]
  },
  {
   "cell_type": "markdown",
   "metadata": {},
   "source": [
    "### NumPy Exercises\n",
    "\n",
    "For the following exercises, be sure to print the desired output. You will not receive credit for problems that do not print the desired output.\n",
    "\n",
    "Some of these exercises will require the use of functions in numpy that may not have been covered in class. Look up documentation on how to use them. I always recommend checking the official reference at https://numpy.org/doc/stable/reference/index.html "
   ]
  },
  {
   "cell_type": "code",
   "execution_count": 139,
   "metadata": {},
   "outputs": [],
   "source": [
    "import numpy as np\n",
    "np.random.seed(1)"
   ]
  },
  {
   "cell_type": "markdown",
   "metadata": {},
   "source": [
    "#### Exercise NP.1:\n",
    "\n",
    "Task: Create an array `b` of 10 random integers selected between 0-99\n",
    "\n",
    "Desired output: `[37 12 72  9 75  5 79 64 16  1]` of course yours might be different"
   ]
  },
  {
   "cell_type": "code",
   "execution_count": 140,
   "metadata": {},
   "outputs": [
    {
     "name": "stdout",
     "output_type": "stream",
     "text": [
      "[37 12 72  9 75  5 79 64 16  1]\n"
     ]
    }
   ],
   "source": [
    "b = np.random.randint(0, 100, 10)\n",
    "print(b)"
   ]
  },
  {
   "cell_type": "markdown",
   "metadata": {},
   "source": [
    "#### NP.1b:\n",
    "\n",
    "Task: reverse the elements in `b`. Hint: Try slicing the array, but backwards\n",
    "\n",
    "Desired output: `[ 1 16 64 79  5 75  9 72 12 37]` yours will be different"
   ]
  },
  {
   "cell_type": "code",
   "execution_count": 141,
   "metadata": {},
   "outputs": [
    {
     "data": {
      "text/plain": [
       "array([ 1, 16, 64, 79,  5, 75,  9, 72, 12, 37])"
      ]
     },
     "execution_count": 141,
     "metadata": {},
     "output_type": "execute_result"
    }
   ],
   "source": [
    "b[::-1]"
   ]
  },
  {
   "cell_type": "markdown",
   "metadata": {},
   "source": [
    "#### NP.2a:\n",
    "\n",
    "Task: Create an array `c` of 1000 random values selected from a normal distribution centered at 100 with sd = 15, rounded to 1 decimal place. Print only the first 10 values.\n",
    "\n",
    "Desired output: `[ 92.1  83.9 113.   65.5 126.2  88.6 104.8  96.3 121.9  69.1]` of course your values may be different"
   ]
  },
  {
   "cell_type": "code",
   "execution_count": 142,
   "metadata": {},
   "outputs": [
    {
     "name": "stdout",
     "output_type": "stream",
     "text": [
      "[ 92.1  83.9 113.   65.5 126.2  88.6 104.8  96.3 121.9  69.1]\n"
     ]
    }
   ],
   "source": [
    "sd = 15\n",
    "mu = 100\n",
    "c = np.random.normal(mu, sd, 1000)\n",
    "c_10 = np.round(c[0:10], decimals = 1)\n",
    "print(c_10)\n"
   ]
  },
  {
   "cell_type": "markdown",
   "metadata": {},
   "source": [
    "#### NP.2b:\n",
    "\n",
    "Perform a Shapiro-Wilk test to see if the values in c come from a normal distribution. Report the p-value and appropriate conclusion.\n",
    "\n",
    "Look up `scipy.stats.shapiro` for usage and details.\n",
    "\n",
    "https://docs.scipy.org/doc/scipy/reference/generated/scipy.stats.shapiro.html"
   ]
  },
  {
   "cell_type": "code",
   "execution_count": 143,
   "metadata": {},
   "outputs": [
    {
     "name": "stdout",
     "output_type": "stream",
     "text": [
      "The p-value is: 0.18049615621566772\n",
      "p-value is greater than 0.05, so we fail to reject null hypothesis. In conclusion, the data comes from a normal distribution.\n"
     ]
    }
   ],
   "source": [
    "from scipy import stats\n",
    "shapiro_test = stats.shapiro(c)\n",
    "print(\"The p-value is:\", shapiro_test.pvalue)\n",
    "print(\"p-value is greater than 0.05, so we fail to reject null hypothesis. In conclusion, the data comes from a normal distribution.\")"
   ]
  },
  {
   "cell_type": "markdown",
   "metadata": {},
   "source": [
    "#### NP.2c:\n",
    "\n",
    "Identify and print the values in `c` that are more than 3 standard deviations from the mean of `c`. Report the proportion of values that are more than 3 sd from the mean.\n",
    "\n",
    "Desired output: `[ 54.1 ... 148.3 ]`\n",
    "\n",
    "`0.32 of the values are beyond 3 sd from the mean.`"
   ]
  },
  {
   "cell_type": "code",
   "execution_count": 144,
   "metadata": {},
   "outputs": [
    {
     "name": "stdout",
     "output_type": "stream",
     "text": [
      "Values that are more than 3 standard deviations from the mean: [145.46285669 159.37904056 149.81618134  54.19353429]\n",
      "0.004 of the values are beyond 3 sd from the mean\n"
     ]
    }
   ],
   "source": [
    "sd = 15\n",
    "outliers = c[abs(100-c) >= 3*sd]\n",
    "print(\"Values that are more than 3 standard deviations from the mean:\", outliers)\n",
    "#print(len(outliers), len(c))\n",
    "print((len(outliers)/len(c)), \"of the values are beyond 3 sd from the mean\")"
   ]
  },
  {
   "cell_type": "markdown",
   "metadata": {},
   "source": [
    "#### NP.3:\n",
    "\n",
    "Task: Make a 3x3 identity matrix called `I3`\n",
    "\n",
    "Desired output: \n",
    "\n",
    "~~~\n",
    "[[1. 0. 0.]\n",
    " [0. 1. 0.]\n",
    " [0. 0. 1.]]\n",
    "~~~"
   ]
  },
  {
   "cell_type": "code",
   "execution_count": 145,
   "metadata": {},
   "outputs": [
    {
     "name": "stdout",
     "output_type": "stream",
     "text": [
      "[[1. 0. 0.]\n",
      " [0. 1. 0.]\n",
      " [0. 0. 1.]]\n"
     ]
    }
   ],
   "source": [
    "I3 = np.identity(3)\n",
    "print(I3)"
   ]
  },
  {
   "cell_type": "markdown",
   "metadata": {},
   "source": [
    "#### NP.4a:\n",
    "\n",
    "Task: Make a 10x10 array of values 1 to 100. Call it X\n",
    "\n",
    "Desired output: \n",
    "\n",
    "~~~\n",
    "[[  1   2   3   4   5   6   7   8   9  10]\n",
    " [ 11  12  13  14  15  16  17  18  19  20]\n",
    " [ 21  22  23  24  25  26  27  28  29  30]\n",
    " [ 31  32  33  34  35  36  37  38  39  40]\n",
    " [ 41  42  43  44  45  46  47  48  49  50]\n",
    " [ 51  52  53  54  55  56  57  58  59  60]\n",
    " [ 61  62  63  64  65  66  67  68  69  70]\n",
    " [ 71  72  73  74  75  76  77  78  79  80]\n",
    " [ 81  82  83  84  85  86  87  88  89  90]\n",
    " [ 91  92  93  94  95  96  97  98  99 100]]\n",
    " ~~~"
   ]
  },
  {
   "cell_type": "code",
   "execution_count": 146,
   "metadata": {},
   "outputs": [
    {
     "name": "stdout",
     "output_type": "stream",
     "text": [
      "[[  1   2   3   4   5   6   7   8   9  10]\n",
      " [ 11  12  13  14  15  16  17  18  19  20]\n",
      " [ 21  22  23  24  25  26  27  28  29  30]\n",
      " [ 31  32  33  34  35  36  37  38  39  40]\n",
      " [ 41  42  43  44  45  46  47  48  49  50]\n",
      " [ 51  52  53  54  55  56  57  58  59  60]\n",
      " [ 61  62  63  64  65  66  67  68  69  70]\n",
      " [ 71  72  73  74  75  76  77  78  79  80]\n",
      " [ 81  82  83  84  85  86  87  88  89  90]\n",
      " [ 91  92  93  94  95  96  97  98  99 100]]\n"
     ]
    }
   ],
   "source": [
    "X = np.arange(1, 101).reshape((10, 10))\n",
    "print(X)"
   ]
  },
  {
   "cell_type": "markdown",
   "metadata": {},
   "source": [
    "#### NP.4b:\n",
    "\n",
    "Task: Make a copy of X, call it Y (1 line). Replace all values in Y that are not squares with 0 (1 line). see `numpy.isin()`\n",
    "\n",
    "Desired output: \n",
    "\n",
    "~~~\n",
    "[[  1   0   0   4   0   0   0   0   9   0]\n",
    " [  0   0   0   0   0  16   0   0   0   0]\n",
    " [  0   0   0   0  25   0   0   0   0   0]\n",
    "...\n",
    " [  0   0   0   0   0   0   0   0   0 100]]\n",
    " ~~~"
   ]
  },
  {
   "cell_type": "code",
   "execution_count": 147,
   "metadata": {},
   "outputs": [
    {
     "name": "stdout",
     "output_type": "stream",
     "text": [
      "[[  1   0   0   4   0   0   0   0   9   0]\n",
      " [  0   0   0   0   0  16   0   0   0   0]\n",
      " [  0   0   0   0  25   0   0   0   0   0]\n",
      " [  0   0   0   0   0  36   0   0   0   0]\n",
      " [  0   0   0   0   0   0   0   0  49   0]\n",
      " [  0   0   0   0   0   0   0   0   0   0]\n",
      " [  0   0   0  64   0   0   0   0   0   0]\n",
      " [  0   0   0   0   0   0   0   0   0   0]\n",
      " [ 81   0   0   0   0   0   0   0   0   0]\n",
      " [  0   0   0   0   0   0   0   0   0 100]]\n"
     ]
    }
   ],
   "source": [
    "Y = X.copy()\n",
    "Y[~np.isin(Y, [1, 4, 9, 16, 25, 36, 49, 64, 81, 100])] = 0\n",
    "print(Y)"
   ]
  },
  {
   "cell_type": "markdown",
   "metadata": {},
   "source": [
    "#### NP.5:\n",
    "\n",
    "Task: Use `np.tile()` to tile a 2x2 diagonal matrix of integers to make a checkerboard pattern. Call the matrix `checkers`\n",
    "\n",
    "Desired output: \n",
    "\n",
    "~~~\n",
    "[[1 0 1 0 1 0 1 0]\n",
    " [0 1 0 1 0 1 0 1]\n",
    " ...\n",
    " [1 0 1 0 1 0 1 0]\n",
    " [0 1 0 1 0 1 0 1]]\n",
    " ~~~"
   ]
  },
  {
   "cell_type": "code",
   "execution_count": 148,
   "metadata": {},
   "outputs": [
    {
     "name": "stdout",
     "output_type": "stream",
     "text": [
      "[[1 0 1 0 1 0 1 0]\n",
      " [0 1 0 1 0 1 0 1]\n",
      " [1 0 1 0 1 0 1 0]\n",
      " [0 1 0 1 0 1 0 1]\n",
      " [1 0 1 0 1 0 1 0]\n",
      " [0 1 0 1 0 1 0 1]\n",
      " [1 0 1 0 1 0 1 0]\n",
      " [0 1 0 1 0 1 0 1]]\n"
     ]
    }
   ],
   "source": [
    "checkers = np.tile([[1, 0],[0,1]] , (4, 4))\n",
    "print(checkers)"
   ]
  },
  {
   "cell_type": "markdown",
   "metadata": {},
   "source": [
    "#### NP.6:\n",
    "\n",
    "Task: convert the values in `f_temp` from Farenheit to celsius. The conversion is subtract 32, then multiply by 5/9. Round to 1 decimal place.\n",
    "\n",
    "Desired output: \n",
    "\n",
    "~~~\n",
    "[[21.1 21.7 22.2 22.8 23.3 23.9]\n",
    " ...\n",
    " [34.4 35.  35.6 36.1 36.7 37.2]]\n",
    "~~~"
   ]
  },
  {
   "cell_type": "code",
   "execution_count": 149,
   "metadata": {
    "tags": []
   },
   "outputs": [],
   "source": [
    "# do not modify\n",
    "f_temp  = np.arange(70,100).reshape((5,6))"
   ]
  },
  {
   "cell_type": "code",
   "execution_count": 150,
   "metadata": {},
   "outputs": [
    {
     "name": "stdout",
     "output_type": "stream",
     "text": [
      "[[21.1 21.7 22.2 22.8 23.3 23.9]\n",
      " [24.4 25.  25.6 26.1 26.7 27.2]\n",
      " [27.8 28.3 28.9 29.4 30.  30.6]\n",
      " [31.1 31.7 32.2 32.8 33.3 33.9]\n",
      " [34.4 35.  35.6 36.1 36.7 37.2]]\n"
     ]
    }
   ],
   "source": [
    "fj = (f_temp - 32) * (5/9)\n",
    "f_temp = np.round(fj, decimals = 1)\n",
    "print(f_temp)\n"
   ]
  },
  {
   "cell_type": "markdown",
   "metadata": {},
   "source": [
    "#### NP.7:\n",
    "\n",
    "Task: Convert values in the matrix `x` into z-scores by column, call it matrix `z`. That is: each column should have a mean of 0 and std of 1. (subtract the column mean, and divide by the column std). (not required, but see if you can do this in one line)\n",
    "\n",
    "Print the column means and column std to show that they have been standardized.\n",
    "\n",
    "Desired output: \n",
    "\n",
    "~~~\n",
    "[[-1.09996745 -0.47901666  0.8816739 ]\n",
    " [ 0.9495002   1.18844641  0.11324252]\n",
    "...\n",
    " [-0.60705751 -1.08536687 -0.57430135]\n",
    " [-1.28156585 -0.81250928  1.52877401]]\n",
    " \n",
    " [ 6.66133815e-17  1.11022302e-16 -1.11022302e-16]\n",
    "[1. 1. 1.]\n",
    "~~~"
   ]
  },
  {
   "cell_type": "code",
   "execution_count": 151,
   "metadata": {},
   "outputs": [],
   "source": [
    "# do not modify\n",
    "np.random.seed(100)\n",
    "x = np.random.randint(100, size = 30).reshape(10,3)"
   ]
  },
  {
   "cell_type": "code",
   "execution_count": 152,
   "metadata": {},
   "outputs": [
    {
     "name": "stdout",
     "output_type": "stream",
     "text": [
      "[[-1.09996745 -0.47901666  0.8816739 ]\n",
      " [ 0.9495002   1.18844641  0.11324252]\n",
      " [-1.04808219  1.64320907  0.27501755]\n",
      " [ 1.23486912  0.40019114  0.84123014]\n",
      " [ 1.23486912 -0.78219177 -0.45297008]\n",
      " [-0.68488539 -0.75187426  0.5985676 ]\n",
      " [ 0.19716398 -0.72155675 -1.46406399]\n",
      " [ 1.10515598  1.40066898 -1.74717029]\n",
      " [-0.60705751 -1.08536687 -0.57430135]\n",
      " [-1.28156585 -0.81250928  1.52877401]]\n"
     ]
    }
   ],
   "source": [
    "x_z = (x - np.mean(x, axis = 0))/np.std(x, axis = 0)\n",
    "print(x_z)"
   ]
  },
  {
   "cell_type": "code",
   "execution_count": 153,
   "metadata": {},
   "outputs": [
    {
     "name": "stdout",
     "output_type": "stream",
     "text": [
      "[ 4.44089210e-17  1.11022302e-16 -1.11022302e-16]\n",
      "[1. 1. 1.]\n"
     ]
    }
   ],
   "source": [
    "print(np.mean(x_z, axis = 0))\n",
    "print(np.std(x_z, axis = 0))"
   ]
  },
  {
   "cell_type": "markdown",
   "metadata": {},
   "source": [
    "#### NP.8:\n",
    "\n",
    "Task: Convert values in the matrix `x` into scaled values from 0 to 10. That is take each column and scale values linearly so that the largest value is 10, and the smallest value in the column is 0. Round results to 2 decimal places. Call the result `y`\n",
    "\n",
    "(Not required, but see if you can do the calculations in one line.)\n",
    "\n",
    "Desired output: \n",
    "\n",
    "~~~\n",
    "[[ 0.72  2.22  8.02]\n",
    " [ 8.87  8.33  5.68]\n",
    "...\n",
    " [ 2.68  0.    3.58]\n",
    " [ 0.    1.   10.  ]]\n",
    " ~~~"
   ]
  },
  {
   "cell_type": "code",
   "execution_count": 154,
   "metadata": {},
   "outputs": [],
   "source": [
    "# do not modify\n",
    "np.random.seed(100)\n",
    "x = np.random.randint(100,size = 30).reshape(10,3)"
   ]
  },
  {
   "cell_type": "code",
   "execution_count": 155,
   "metadata": {},
   "outputs": [
    {
     "name": "stdout",
     "output_type": "stream",
     "text": [
      "[[ 0.72  2.22  8.02]\n",
      " [ 8.87  8.33  5.68]\n",
      " [ 0.93 10.    6.17]\n",
      " [10.    5.44  7.9 ]\n",
      " [10.    1.11  3.95]\n",
      " [ 2.37  1.22  7.16]\n",
      " [ 5.88  1.33  0.86]\n",
      " [ 9.48  9.11  0.  ]\n",
      " [ 2.68  0.    3.58]\n",
      " [ 0.    1.   10.  ]]\n"
     ]
    }
   ],
   "source": [
    "y = np.round((x-np.min(x, axis = 0))/(np.max(x, axis = 0)-np.min(x, axis = 0))*10, decimals = 2)\n",
    "print(y)"
   ]
  },
  {
   "cell_type": "markdown",
   "metadata": {},
   "source": [
    "#### NP.9:\n",
    "\n",
    "Task: Replace all NaN values in the matrix `x` with 0.\n",
    "\n",
    "Desired output: \n",
    "\n",
    "~~~\n",
    "[[ 8. 24. 67.]\n",
    " [87. 79.  0.]\n",
    " [10.  0. 52.]\n",
    " [ 0. 53. 66.]]\n",
    "~~~"
   ]
  },
  {
   "cell_type": "code",
   "execution_count": 156,
   "metadata": {},
   "outputs": [],
   "source": [
    "# do not modify\n",
    "np.random.seed(100)\n",
    "x = np.random.randint(100,size = 12).reshape(4,3).astype('float')\n",
    "row = np.array([1, 2, 3])\n",
    "col = np.array([2, 1, 0])\n",
    "x[row, col] = np.nan"
   ]
  },
  {
   "cell_type": "code",
   "execution_count": 157,
   "metadata": {},
   "outputs": [
    {
     "name": "stdout",
     "output_type": "stream",
     "text": [
      "[[ 8. 24. 67.]\n",
      " [87. 79.  0.]\n",
      " [10.  0. 52.]\n",
      " [ 0. 53. 66.]]\n"
     ]
    }
   ],
   "source": [
    "no_nans = np.nan_to_num(x)\n",
    "print(no_nans)"
   ]
  }
 ],
 "metadata": {
  "kernelspec": {
   "display_name": "Python 3",
   "language": "python",
   "name": "python3"
  },
  "language_info": {
   "codemirror_mode": {
    "name": "ipython",
    "version": 3
   },
   "file_extension": ".py",
   "mimetype": "text/x-python",
   "name": "python",
   "nbconvert_exporter": "python",
   "pygments_lexer": "ipython3",
   "version": "3.8.8"
  }
 },
 "nbformat": 4,
 "nbformat_minor": 4
}
